{
 "cells": [
  {
   "cell_type": "code",
   "execution_count": 77,
   "id": "fb04d0e3",
   "metadata": {},
   "outputs": [],
   "source": [
    "import pandas as pd\n",
    "characterData = pd.read_csv('character_metadata.csv')"
   ]
  },
  {
   "cell_type": "code",
   "execution_count": 78,
   "id": "099d5219",
   "metadata": {},
   "outputs": [
    {
     "name": "stdout",
     "output_type": "stream",
     "text": [
      "0               BRUCE\n",
      "1            CHASTITY\n",
      "2          MISS PERKY\n",
      "3              SHARON\n",
      "4              ALONSO\n",
      "            ...      \n",
      "6015         DURNFORD\n",
      "6016          MELVILL\n",
      "6017    NORRIS-NEWMAN\n",
      "6018     STUART SMITH\n",
      "6019          VEREKER\n",
      "Name: name, Length: 6020, dtype: object\n"
     ]
    }
   ],
   "source": [
    "mysteryGender = characterData[characterData['gender'] == '?'].reset_index()\n",
    "print(mysteryGender['name'])"
   ]
  },
  {
   "cell_type": "code",
   "execution_count": 95,
   "id": "a08e4b37",
   "metadata": {},
   "outputs": [],
   "source": [
    "otherWomenIndex = []\n",
    "for i in range(len(mysteryGender)):\n",
    "    cName = str(mysteryGender['name'][i])\n",
    "    if cName.find('MISS ') != -1 or cName.find('MRS') != -1 :\n",
    "        otherWomenIndex.append(i)\n",
    "    elif cName.find('MOM') != -1 or cName.find('MOTHER') != -1 or cName.find('GRANDMA') != -1 or cName.find('GRANDMOTHER') != -1:\n",
    "        otherWomenIndex.append(i)\n",
    "missSet = mysteryGender.iloc[otherWomenIndex].reset_index()\n",
    "characterData['gender'][missSet['index']] = 'f'"
   ]
  },
  {
   "cell_type": "code",
   "execution_count": 96,
   "id": "e5eea695",
   "metadata": {},
   "outputs": [
    {
     "name": "stdout",
     "output_type": "stream",
     "text": [
      "0               BRUCE\n",
      "1            CHASTITY\n",
      "2              SHARON\n",
      "3              ALONSO\n",
      "4              AROJAZ\n",
      "            ...      \n",
      "5855         DURNFORD\n",
      "5856          MELVILL\n",
      "5857    NORRIS-NEWMAN\n",
      "5858     STUART SMITH\n",
      "5859          VEREKER\n",
      "Name: name, Length: 5860, dtype: object\n"
     ]
    }
   ],
   "source": [
    "mysteryGender = characterData[characterData['gender'] == '?'].reset_index()\n",
    "print(mysteryGender['name'])"
   ]
  },
  {
   "cell_type": "code",
   "execution_count": 103,
   "id": "e98c1338",
   "metadata": {},
   "outputs": [],
   "source": [
    "nameData = pd.read_csv('census-female-names.csv')\n",
    "womens_names = nameData['Name'].tolist()"
   ]
  }
 ],
 "metadata": {
  "kernelspec": {
   "display_name": "Python 3",
   "language": "python",
   "name": "python3"
  },
  "language_info": {
   "codemirror_mode": {
    "name": "ipython",
    "version": 3
   },
   "file_extension": ".py",
   "mimetype": "text/x-python",
   "name": "python",
   "nbconvert_exporter": "python",
   "pygments_lexer": "ipython3",
   "version": "3.8.8"
  }
 },
 "nbformat": 4,
 "nbformat_minor": 5
}
