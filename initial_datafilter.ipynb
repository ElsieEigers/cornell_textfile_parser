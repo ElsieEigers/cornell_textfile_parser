{
 "cells": [
  {
   "cell_type": "code",
   "execution_count": 18,
   "id": "fb04d0e3",
   "metadata": {},
   "outputs": [],
   "source": [
    "import pandas as pd\n",
    "characterData = pd.read_csv('character_metadata.csv')"
   ]
  },
  {
   "cell_type": "code",
   "execution_count": 19,
   "id": "099d5219",
   "metadata": {},
   "outputs": [
    {
     "name": "stdout",
     "output_type": "stream",
     "text": [
      "0               BRUCE\n",
      "1            CHASTITY\n",
      "2          MISS PERKY\n",
      "3              SHARON\n",
      "4              ALONSO\n",
      "            ...      \n",
      "6015         DURNFORD\n",
      "6016          MELVILL\n",
      "6017    NORRIS-NEWMAN\n",
      "6018     STUART SMITH\n",
      "6019          VEREKER\n",
      "Name: name, Length: 6020, dtype: object\n"
     ]
    }
   ],
   "source": [
    "mysteryGender = characterData[characterData['gender'] == '?'].reset_index()\n",
    "print(mysteryGender['name'])"
   ]
  },
  {
   "cell_type": "code",
   "execution_count": 20,
   "id": "a08e4b37",
   "metadata": {},
   "outputs": [],
   "source": [
    "otherWomenIndex = []\n",
    "for i in range(len(mysteryGender)):\n",
    "    cName = str(mysteryGender['name'][i])\n",
    "    if cName.find('MISS ') != -1 or cName.find('MRS ') != -1 or cName.find('LADY ') != -1 or cName.find('FEMALE') != -1:\n",
    "        otherWomenIndex.append(i)\n",
    "    elif cName.find('MOM') != -1 or cName.find('MOTHER') != -1 or cName.find('GRANDMA') != -1 or cName.find('GRANDMOTHER') != -1 or cName.find('MAMA') != -1 or cName.find('MEME') != -1 or cName.find('AUNT') != -1 or cName.find('SISTER') != -1:\n",
    "        otherWomenIndex.append(i)\n",
    "    elif cName.find('WOMAN') != -1 or cName.find('WOMEN') != -1 or cName.find('GIRL')!= -1 or cName.find('WIDOW')!= -1 or cName.find('NUN') != -1 or cName.find('PRINCESS') != -1 or  cName.find('MADAM') != -1 or  cName.find('MAID') != -1:\n",
    "        otherWomenIndex.append(i)\n",
    "    elif cName.find('NURSE') != -1 or cName.find('SECRETARY') != -1 or cName.find('WAITRESS') != -1 or cName.find('QUEEN') != -1:\n",
    "        otherWomenIndex.append(i)\n",
    "missSet = mysteryGender.iloc[otherWomenIndex].reset_index()\n",
    "characterData['gender'][missSet['index']] = 'f'"
   ]
  },
  {
   "cell_type": "code",
   "execution_count": 21,
   "id": "e5eea695",
   "metadata": {},
   "outputs": [
    {
     "name": "stdout",
     "output_type": "stream",
     "text": [
      "0               BRUCE\n",
      "1            CHASTITY\n",
      "2              SHARON\n",
      "3              ALONSO\n",
      "4              AROJAZ\n",
      "            ...      \n",
      "5728         DURNFORD\n",
      "5729          MELVILL\n",
      "5730    NORRIS-NEWMAN\n",
      "5731     STUART SMITH\n",
      "5732          VEREKER\n",
      "Name: name, Length: 5733, dtype: object\n"
     ]
    }
   ],
   "source": [
    "mysteryGender = characterData[characterData['gender'] == '?'].reset_index()\n",
    "print(mysteryGender['name'])"
   ]
  },
  {
   "cell_type": "code",
   "execution_count": 22,
   "id": "d1be30e7",
   "metadata": {},
   "outputs": [],
   "source": [
    "otherManIndex = []\n",
    "for i in range(len(mysteryGender)):\n",
    "    cName = str(mysteryGender['name'][i])\n",
    "    if cName.find('MISTER') != -1 or cName.find('MR') != -1  or cName.find(\"LORD\")!= -1:\n",
    "        otherManIndex.append(i)\n",
    "    elif cName.find('DAD') != -1 or cName.find('FATHER') != -1 or cName.find('GRANDPA') != -1 or cName.find('GRANDFATHER') != -1:\n",
    "        otherManIndex.append(i)\n",
    "    elif cName.find('PRIEST') != -1 or cName.find('POP') != -1 or cName.find('GUY') != -1 or cName.find('DUDE') != -1:\n",
    "        otherManIndex.append(i)\n",
    "    elif cName.find('KING') != -1 or cName.find('DUKE') != -1 or cName.find('MEN') != -1 or cName.find('MALE') != -1 or  cName.find('UNCLE') != -1:\n",
    "        otherManIndex.append(i)\n",
    "    elif cName.find('WAITER') != -1 or cName.find('CLERK') != -1 or cName.find('TRUCKER') != -1 or cName.find('BROTHER') != -1:\n",
    "        otherManIndex.append(i)\n",
    "misterSet = mysteryGender.iloc[otherManIndex].reset_index()\n",
    "characterData['gender'][misterSet['index']] = 'm'"
   ]
  },
  {
   "cell_type": "code",
   "execution_count": 23,
   "id": "ae6ee6ae",
   "metadata": {},
   "outputs": [
    {
     "name": "stdout",
     "output_type": "stream",
     "text": [
      "0               BRUCE\n",
      "1            CHASTITY\n",
      "2              SHARON\n",
      "3              ALONSO\n",
      "4              AROJAZ\n",
      "            ...      \n",
      "5420         DURNFORD\n",
      "5421          MELVILL\n",
      "5422    NORRIS-NEWMAN\n",
      "5423     STUART SMITH\n",
      "5424          VEREKER\n",
      "Name: name, Length: 5425, dtype: object\n"
     ]
    }
   ],
   "source": [
    "mysteryGender = characterData[characterData['gender'] == '?'].reset_index()\n",
    "print(mysteryGender['name'])"
   ]
  },
  {
   "cell_type": "code",
   "execution_count": 4,
   "id": "e98c1338",
   "metadata": {},
   "outputs": [],
   "source": [
    "nameData = pd.read_csv('census-female-names.csv')\n",
    "womens_names = set(nameData['Name'])"
   ]
  },
  {
   "cell_type": "code",
   "execution_count": null,
   "id": "972ab3d6",
   "metadata": {},
   "outputs": [],
   "source": []
  }
 ],
 "metadata": {
  "kernelspec": {
   "display_name": "Python 3",
   "language": "python",
   "name": "python3"
  },
  "language_info": {
   "codemirror_mode": {
    "name": "ipython",
    "version": 3
   },
   "file_extension": ".py",
   "mimetype": "text/x-python",
   "name": "python",
   "nbconvert_exporter": "python",
   "pygments_lexer": "ipython3",
   "version": "3.8.8"
  }
 },
 "nbformat": 4,
 "nbformat_minor": 5
}
