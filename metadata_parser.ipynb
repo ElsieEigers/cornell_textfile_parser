{
 "cells": [
  {
   "cell_type": "code",
   "execution_count": 26,
   "id": "dd25f993",
   "metadata": {},
   "outputs": [],
   "source": [
    "import pandas as pd"
   ]
  },
  {
   "cell_type": "code",
   "execution_count": 27,
   "id": "1d740984",
   "metadata": {},
   "outputs": [],
   "source": [
    "list_ = open(\"movie_titles_metadata.txt\").read().split(\" +++$+++ \")\n",
    "#print(list_)\n",
    "new_list = []\n",
    "for i in range(len(list_)):\n",
    "    new_list.extend(list_[i].split(\"\\n\"))"
   ]
  },
  {
   "cell_type": "code",
   "execution_count": 28,
   "id": "fdddbe10",
   "metadata": {},
   "outputs": [
    {
     "name": "stdout",
     "output_type": "stream",
     "text": [
      "    id number                       title year of release imdb rating  \\\n",
      "0          m0  10 things i hate about you            1999        6.90   \n",
      "1          m1  1492: conquest of paradise            1992        6.20   \n",
      "2          m2                  15 minutes            2001        6.10   \n",
      "3          m3       2001: a space odyssey            1968        8.40   \n",
      "4          m4                     48 hrs.            1982        6.90   \n",
      "..        ...                         ...             ...         ...   \n",
      "612      m612                    watchmen            2009        7.80   \n",
      "613      m613                         xxx            2002        5.60   \n",
      "614      m614                       x-men            2000        7.40   \n",
      "615      m615          young frankenstein            1974        8.00   \n",
      "616      m616                   zulu dawn            1979        6.40   \n",
      "\n",
      "    number of reviewers                                           genre(s)  \n",
      "0                 62847                              ['comedy', 'romance']  \n",
      "1                 10421     ['adventure', 'biography', 'drama', 'history']  \n",
      "2                 25854           ['action', 'crime', 'drama', 'thriller']  \n",
      "3                163227                 ['adventure', 'mystery', 'sci-fi']  \n",
      "4                 22289  ['action', 'comedy', 'crime', 'drama', 'thrill...  \n",
      "..                  ...                                                ...  \n",
      "612              135229  ['action', 'crime', 'fantasy', 'mystery', 'sci...  \n",
      "613               53505                   ['action', 'adventure', 'crime']  \n",
      "614              122149                               ['action', 'sci-fi']  \n",
      "615               57618                               ['comedy', 'sci-fi']  \n",
      "616                1911  ['action', 'adventure', 'drama', 'history', 'w...  \n",
      "\n",
      "[617 rows x 6 columns]\n"
     ]
    }
   ],
   "source": [
    "id_num = new_list[0:-1:6]\n",
    "title = new_list[1: :6]\n",
    "year = new_list[2: :6]\n",
    "rating = new_list[3: :6]\n",
    "num_rating = new_list[4: :6]\n",
    "genre = new_list[5: :6]\n",
    "d = {'id number': id_num, 'title': title, 'year of release': year, 'imdb rating': rating, 'number of reviewers': num_rating, 'genre(s)': genre}\n",
    "movie_metadata = pd.DataFrame(data=d)\n",
    "print(movie_metadata)"
   ]
  },
  {
   "cell_type": "code",
   "execution_count": 29,
   "id": "66d2b63e",
   "metadata": {},
   "outputs": [],
   "source": [
    "list_ = open(\"movie_characters_metadata.txt\").read().split(\" +++$+++ \")\n",
    "#print(list_)\n",
    "new_list = []\n",
    "for i in range(len(list_)):\n",
    "    new_list.extend(list_[i].split(\"\\n\"))\n"
   ]
  },
  {
   "cell_type": "code",
   "execution_count": 25,
   "id": "43a0ca7f",
   "metadata": {},
   "outputs": [
    {
     "name": "stdout",
     "output_type": "stream",
     "text": [
      "     character id           name id number                       title gender  \\\n",
      "0              u0         BIANCA        m0  10 things i hate about you      f   \n",
      "1              u1          BRUCE        m0  10 things i hate about you      ?   \n",
      "2              u2        CAMERON        m0  10 things i hate about you      m   \n",
      "3              u3       CHASTITY        m0  10 things i hate about you      ?   \n",
      "4              u4           JOEY        m0  10 things i hate about you      m   \n",
      "...           ...            ...       ...                         ...    ...   \n",
      "9030        u9030       DURNFORD      m616                   zulu dawn      ?   \n",
      "9031        u9031        MELVILL      m616                   zulu dawn      ?   \n",
      "9032        u9032  NORRIS-NEWMAN      m616                   zulu dawn      ?   \n",
      "9033        u9033   STUART SMITH      m616                   zulu dawn      ?   \n",
      "9034        u9034        VEREKER      m616                   zulu dawn      ?   \n",
      "\n",
      "     billing order  \n",
      "0                4  \n",
      "1                ?  \n",
      "2                3  \n",
      "3                ?  \n",
      "4                6  \n",
      "...            ...  \n",
      "9030             ?  \n",
      "9031             ?  \n",
      "9032             ?  \n",
      "9033             ?  \n",
      "9034             ?  \n",
      "\n",
      "[9035 rows x 6 columns]\n"
     ]
    }
   ],
   "source": [
    "id_num = new_list[0:-1:6]\n",
    "title = new_list[1: :6]\n",
    "year = new_list[2: :6]\n",
    "rating = new_list[3: :6]\n",
    "num_rating = new_list[4: :6]\n",
    "genre = new_list[5: :6]\n",
    "d = {'character id': id_num, 'name': title, 'id number': year, 'title': rating, 'gender': num_rating, 'billing order': genre}\n",
    "movie_metadata = pd.DataFrame(data=d)\n",
    "print(character_metadata)"
   ]
  }
 ],
 "metadata": {
  "kernelspec": {
   "display_name": "Python 3",
   "language": "python",
   "name": "python3"
  },
  "language_info": {
   "codemirror_mode": {
    "name": "ipython",
    "version": 3
   },
   "file_extension": ".py",
   "mimetype": "text/x-python",
   "name": "python",
   "nbconvert_exporter": "python",
   "pygments_lexer": "ipython3",
   "version": "3.8.8"
  }
 },
 "nbformat": 4,
 "nbformat_minor": 5
}
