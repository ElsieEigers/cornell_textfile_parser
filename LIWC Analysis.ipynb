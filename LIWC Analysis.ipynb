{
 "cells": [
  {
   "cell_type": "code",
   "execution_count": 2,
   "id": "850b7fdc",
   "metadata": {},
   "outputs": [],
   "source": [
    "import pandas as pd\n",
    "liwcData = pd.read_excel('convo_dataset_liwc.xlsx')"
   ]
  },
  {
   "cell_type": "code",
   "execution_count": 6,
   "id": "333dd39b",
   "metadata": {},
   "outputs": [],
   "source": [
    "averages = liwcData.mean()"
   ]
  },
  {
   "cell_type": "code",
   "execution_count": 46,
   "id": "feb9a790",
   "metadata": {},
   "outputs": [
    {
     "data": {
      "text/plain": [
       "0       False\n",
       "1        True\n",
       "2       False\n",
       "3        True\n",
       "4        True\n",
       "        ...  \n",
       "4406    False\n",
       "4407     True\n",
       "4408    False\n",
       "4409    False\n",
       "4410    False\n",
       "Name: male, Length: 4411, dtype: bool"
      ]
     },
     "execution_count": 46,
     "metadata": {},
     "output_type": "execute_result"
    }
   ],
   "source": [
    "liwcData['male'] > 0"
   ]
  },
  {
   "cell_type": "code",
   "execution_count": 44,
   "id": "5b40c9e0",
   "metadata": {
    "scrolled": true
   },
   "outputs": [
    {
     "name": "stdout",
     "output_type": "stream",
     "text": [
      "6.542319201995013\n",
      "social\n",
      "16.35929494445706\n",
      "1.1052233053729323\n",
      "0.5702448424393558\n",
      "1.6976263885740217\n",
      "2.647921106325102\n",
      "11.713155746996136\n",
      "2.6783110405803776\n",
      "2.312117433688512\n",
      "7.38674676944004\n",
      "12.100566764905901\n",
      "3.6492246656087164\n",
      "personal\n",
      "1.031072319201997\n",
      "0.9536046248016335\n",
      "0.5091226479256404\n",
      "0.42234640671049645\n",
      "0.5205418272500568\n",
      "0.34773067331670804\n",
      "0.630736416534422\n",
      "TimeOrient\n",
      "4.262015416005453\n",
      "16.9981455452278\n",
      "1.990061210609841\n"
     ]
    }
   ],
   "source": [
    "daver = averages.to_dict()\n",
    "avlist = list(averages)\n",
    "#print(liwcData.columns[17])\n",
    "print(daver['affect'])\n",
    "print('social')\n",
    "print(daver['social'])\n",
    "print(daver['family'])\n",
    "print(daver['friend'])\n",
    "print(daver['female'])\n",
    "print(daver['male'])\n",
    "print(daver['cogproc'])\n",
    "print(daver['percept'])\n",
    "print(daver['bio'])\n",
    "print(daver['drives'])\n",
    "print(daver['relativ'])\n",
    "print(daver['informal'])\n",
    "\n",
    "print(\"personal\")\n",
    "print(daver['work'])\n",
    "print(daver['leisure'])\n",
    "print(daver['home'])\n",
    "print(daver['money'])\n",
    "print(daver['relig'])\n",
    "print(daver['death'])\n",
    "print((daver['work'] + daver['leisure'] + daver['home'] + daver['money'] + daver['relig'] + daver['death'])/6)\n",
    "\n",
    "print(\"TimeOrient\")\n",
    "print(daver['focuspast'])\n",
    "print(daver['focuspresent'])\n",
    "print(daver['focusfuture'])"
   ]
  }
 ],
 "metadata": {
  "kernelspec": {
   "display_name": "Python 3",
   "language": "python",
   "name": "python3"
  },
  "language_info": {
   "codemirror_mode": {
    "name": "ipython",
    "version": 3
   },
   "file_extension": ".py",
   "mimetype": "text/x-python",
   "name": "python",
   "nbconvert_exporter": "python",
   "pygments_lexer": "ipython3",
   "version": "3.8.8"
  }
 },
 "nbformat": 4,
 "nbformat_minor": 5
}
